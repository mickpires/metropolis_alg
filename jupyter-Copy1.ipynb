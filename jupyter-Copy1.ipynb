{
 "cells": [
  {
   "cell_type": "code",
   "execution_count": 74,
   "metadata": {},
   "outputs": [
    {
     "data": {
      "text/plain": [
       "markov (generic function with 1 method)"
      ]
     },
     "execution_count": 74,
     "metadata": {},
     "output_type": "execute_result"
    }
   ],
   "source": [
    "using Plots\n",
    "using Optim\n",
    "using LinearAlgebra\n",
    "using DataFrames\n",
    "using GLM\n",
    "using CSV\n",
    "using TypedTables\n",
    "include(\"markovvec.jl\")"
   ]
  },
  {
   "cell_type": "code",
   "execution_count": null,
   "metadata": {
    "editable": true,
    "scrolled": true,
    "slideshow": {
     "slide_type": ""
    },
    "tags": []
   },
   "outputs": [
    {
     "name": "stdout",
     "output_type": "stream",
     "text": [
      "-------------------------------------------------------------------------\n",
      "T = 300\n",
      "loop: 1\n",
      "loop: 2\n",
      "loop: 3\n",
      "loop: 4\n",
      "loop: "
     ]
    }
   ],
   "source": [
    "N = 10000\n",
    "m = 1.67e-27\n",
    "Tinit = 300\n",
    "step = 10\n",
    "Tfinal = 500\n",
    "T = [Tinit:step:Tfinal;]\n",
    "iter = 1000\n",
    "velocities = 2000\n",
    "ββ = []\n",
    "ratio = []\n",
    "EE = []\n",
    "vv = []\n",
    "ΔEE = []\n",
    "for t in T\n",
    "    println(\"-------------------------------------------------------------------------\")\n",
    "    println(\"T = \",t)\n",
    "    ΔE, ratio_tentativas,energies,velocidades, β = markov(N,m,t,velocities,iter)\n",
    "    push!(ΔEE,ΔE)\n",
    "    push!(ββ,β)\n",
    "    push!(vv,velocidades)\n",
    "    push!(ratio,ratio_tentativas)\n",
    "    push!(EE,energies)\n",
    "end"
   ]
  },
  {
   "cell_type": "code",
   "execution_count": null,
   "metadata": {
    "editable": true,
    "scrolled": true,
    "slideshow": {
     "slide_type": ""
    },
    "tags": []
   },
   "outputs": [],
   "source": [
    "data = DataFrame(\"β\" => ββ,\"ratio\" => ratio,\"E\" => EE,\"v\" => vv,\"ΔE\" => ΔEE)\n",
    "CSV.write(\"dados/simulação com T = [$Tfinal:$step:$Tfinal;] iter = $iter, N = $N, velocidade = $velocities.csv\",data)"
   ]
  },
  {
   "cell_type": "code",
   "execution_count": null,
   "metadata": {
    "scrolled": true
   },
   "outputs": [],
   "source": [
    "\n",
    "#data = CSV.read(\"dados/simulação com T = [500:5:500;] iter = 20, N = 4000.csv\",DataFrame)\n",
    "#data.E = Matrix{Float64}(data.E)"
   ]
  },
  {
   "cell_type": "code",
   "execution_count": null,
   "metadata": {},
   "outputs": [],
   "source": []
  },
  {
   "cell_type": "code",
   "execution_count": null,
   "metadata": {},
   "outputs": [],
   "source": [
    "scalar = []\n",
    "for i in 1:N\n",
    "    push!(scalar,norm(vv[1][i,:]))\n",
    "    end\n",
    "scalar"
   ]
  },
  {
   "cell_type": "code",
   "execution_count": null,
   "metadata": {},
   "outputs": [],
   "source": [
    "Plots.xlabel!(\"Velocidades escalar\")\n",
    "Plots.histogram(scalar)"
   ]
  },
  {
   "cell_type": "markdown",
   "metadata": {},
   "source": [
    "Para plotar a curva, vai exigir com que eu selecione o intervalo de valores e isso eu posso fazer usando a velocidade que dei de entrada"
   ]
  },
  {
   "cell_type": "code",
   "execution_count": null,
   "metadata": {},
   "outputs": [],
   "source": [
    "final_energy = [mean(EE[i]) for i in 1:length(EE)]"
   ]
  },
  {
   "cell_type": "code",
   "execution_count": null,
   "metadata": {
    "editable": true,
    "scrolled": true,
    "slideshow": {
     "slide_type": ""
    },
    "tags": []
   },
   "outputs": [],
   "source": [
    "Plots.scatter(T,final_energy)\n",
    "Plots.title!(\"T vs U\")\n",
    "Plots.xlabel!(\"temperatura (K)\")\n",
    "Plots.ylabel!(\"energia (J)\")"
   ]
  },
  {
   "cell_type": "markdown",
   "metadata": {},
   "source": [
    "Podemos perceber que a energia e a temperatura possuem uma relação linear. Logo, eu decidi então fazer um ajuste linear"
   ]
  },
  {
   "cell_type": "code",
   "execution_count": null,
   "metadata": {},
   "outputs": [],
   "source": [
    "t = Table(energy = final_energy,temperature = T)\n",
    "t"
   ]
  },
  {
   "cell_type": "code",
   "execution_count": null,
   "metadata": {},
   "outputs": [],
   "source": [
    "ols = lm(@formula(energy ~ temperature),t)"
   ]
  },
  {
   "cell_type": "code",
   "execution_count": null,
   "metadata": {},
   "outputs": [],
   "source": [
    "plot!(T,predict(ols))"
   ]
  },
  {
   "cell_type": "code",
   "execution_count": null,
   "metadata": {},
   "outputs": [],
   "source": [
    "α = coef(ols)[2]\n",
    "k_B = 1.38e-23\n",
    "2*α/(3*k_B) # não tá muito certo fazer isso, mas...."
   ]
  },
  {
   "cell_type": "code",
   "execution_count": null,
   "metadata": {},
   "outputs": [],
   "source": [
    "sum(EE[1])"
   ]
  },
  {
   "cell_type": "code",
   "execution_count": null,
   "metadata": {},
   "outputs": [],
   "source": [
    "sum(ℯ.^(-ββ[1].*EE[1]))"
   ]
  },
  {
   "cell_type": "code",
   "execution_count": null,
   "metadata": {},
   "outputs": [],
   "source": [
    "sum(EE[1])"
   ]
  },
  {
   "cell_type": "code",
   "execution_count": null,
   "metadata": {},
   "outputs": [],
   "source": [
    "ℯ^(-ββ[1]*sum(EE[1]))"
   ]
  },
  {
   "cell_type": "code",
   "execution_count": null,
   "metadata": {},
   "outputs": [],
   "source": [
    "ββ[1]"
   ]
  },
  {
   "cell_type": "code",
   "execution_count": null,
   "metadata": {},
   "outputs": [],
   "source": [
    "logZ=-sum(EE[1]) * ββ[1]"
   ]
  },
  {
   "cell_type": "code",
   "execution_count": null,
   "metadata": {},
   "outputs": [],
   "source": [
    "exp(-sum(EE[1]) * ββ[1])"
   ]
  },
  {
   "cell_type": "markdown",
   "metadata": {},
   "source": [
    "## Calculando a função de Partição:\n",
    "\n",
    "$$Z = \\sum_i e^{-\\beta E_i}$$\n",
    "\n",
    "Para evitar underflow numérico\n",
    "Está sendo usado\n",
    "\n",
    "$$\\log Z = -\\sum_i \\beta E_i$$"
   ]
  },
  {
   "cell_type": "code",
   "execution_count": null,
   "metadata": {},
   "outputs": [],
   "source": [
    "logZ = []\n",
    "for i in 1:length(ββ)\n",
    "    push!(logZ,sum(-ββ[i].*EE[i]))\n",
    "    end\n",
    "logZ"
   ]
  },
  {
   "cell_type": "code",
   "execution_count": null,
   "metadata": {},
   "outputs": [],
   "source": []
  },
  {
   "cell_type": "code",
   "execution_count": null,
   "metadata": {},
   "outputs": [],
   "source": [
    "final_energy"
   ]
  },
  {
   "cell_type": "markdown",
   "metadata": {},
   "source": [
    "Obtendo a energia média pela função de partição\n",
    "\n",
    "$$\\bar E = -\\frac{\\partial \\ln Z}{\\partial \\beta}$$"
   ]
  },
  {
   "cell_type": "code",
   "execution_count": null,
   "metadata": {
    "editable": true,
    "slideshow": {
     "slide_type": ""
    },
    "tags": []
   },
   "outputs": [],
   "source": [
    "-diff(logZ)./diff(ββ)"
   ]
  },
  {
   "cell_type": "code",
   "execution_count": null,
   "metadata": {},
   "outputs": [],
   "source": [
    "mean(EE[1])"
   ]
  },
  {
   "cell_type": "markdown",
   "metadata": {},
   "source": [
    "## Calcular a entropia\n",
    "\n",
    "Estou usando a entropia de Shannon que é dado por:\n",
    "\n",
    "$$S = -k_B \\sum_j P_j \\ln P_j$$\n",
    "\n",
    "onde $$P_j = \\frac{\\exp (-\\beta E_j)}{\\sum_k \\exp (-\\beta E_k)}$$\n",
    "\n",
    "ou\n",
    "\n",
    "$$P_j = \\frac{\\exp (-\\beta E_j)}{Z}$$\n",
    "\n",
    "Como está sendo usado $\\log Z$ para evitar underflow numérico\n",
    "\n",
    "$$\\log P_j = -\\beta E_j - \\log Z$$"
   ]
  },
  {
   "cell_type": "markdown",
   "metadata": {},
   "source": [
    "Obtendo as probabilidades"
   ]
  },
  {
   "cell_type": "code",
   "execution_count": null,
   "metadata": {
    "scrolled": true
   },
   "outputs": [],
   "source": [
    "logP = []\n",
    "for i in 1:length(Z)\n",
    "    for j in 1:length(EE[i])\n",
    "        push!(logP,-ββ[i] * EE[i][j] .- Z[i])\n",
    "    end\n",
    "end\n",
    "\n",
    "P = logP  # Aplica exp. elemento por elemento\n"
   ]
  },
  {
   "cell_type": "markdown",
   "metadata": {},
   "source": [
    "Obtendo a entropia $S$."
   ]
  },
  {
   "cell_type": "code",
   "execution_count": null,
   "metadata": {},
   "outputs": [],
   "source": [
    "S = []\n",
    "for i in 1:length(P)\n",
    "    push!(S,-k_B*sum(P[i].*log.(P[i])))\n",
    "end\n",
    "S"
   ]
  },
  {
   "cell_type": "markdown",
   "metadata": {},
   "source": [
    "A temperatura vai ser dada por\n",
    "\n",
    "$$T = \\frac{\\partial \\bar E}{\\partial S}$$"
   ]
  },
  {
   "cell_type": "code",
   "execution_count": null,
   "metadata": {},
   "outputs": [],
   "source": [
    "U = [0; -diff(log.(Z))./(diff(ββ))]"
   ]
  },
  {
   "cell_type": "code",
   "execution_count": null,
   "metadata": {},
   "outputs": [],
   "source": [
    "dU = [0;diff(U)]"
   ]
  },
  {
   "cell_type": "code",
   "execution_count": null,
   "metadata": {},
   "outputs": [],
   "source": [
    "dS = [0;diff(S)]"
   ]
  },
  {
   "cell_type": "code",
   "execution_count": null,
   "metadata": {
    "editable": true,
    "slideshow": {
     "slide_type": ""
    },
    "tags": []
   },
   "outputs": [],
   "source": [
    "T"
   ]
  }
 ],
 "metadata": {
  "kernelspec": {
   "display_name": "Julia 1.10.5",
   "language": "julia",
   "name": "julia-1.10"
  },
  "language_info": {
   "file_extension": ".jl",
   "mimetype": "application/julia",
   "name": "julia",
   "version": "1.10.5"
  }
 },
 "nbformat": 4,
 "nbformat_minor": 4
}

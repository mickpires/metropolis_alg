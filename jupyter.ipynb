{
 "cells": [
  {
   "cell_type": "code",
   "execution_count": 1,
   "metadata": {},
   "outputs": [
    {
     "data": {
      "application/vnd.webio.node+json": {
       "children": [],
       "instanceArgs": {
        "namespace": "html",
        "tag": "div"
       },
       "nodeType": "DOM",
       "props": {},
       "type": "node"
      },
      "text/html": [
       "<div style=\"padding: 1em; background-color: #f8d6da; border: 1px solid #f5c6cb; font-weight: bold;\">\n",
       "<p>The WebIO Jupyter extension was not detected. See the\n",
       "<a href=\"https://juliagizmos.github.io/WebIO.jl/latest/providers/ijulia/\" target=\"_blank\">\n",
       "    WebIO Jupyter integration documentation\n",
       "</a>\n",
       "for more information.\n",
       "</div>\n"
      ],
      "text/plain": [
       "WebIO._IJuliaInit()"
      ]
     },
     "metadata": {
      "@webio": {
       "kernelId": "991dca16-b2b2-4b22-825f-469ebafb2035"
      }
     },
     "output_type": "display_data"
    },
    {
     "data": {
      "text/plain": [
       "markov (generic function with 1 method)"
      ]
     },
     "execution_count": 1,
     "metadata": {},
     "output_type": "execute_result"
    }
   ],
   "source": [
    "using PlotlyJS\n",
    "using Optim\n",
    "include(\"markov.jl\")"
   ]
  },
  {
   "cell_type": "code",
   "execution_count": 2,
   "metadata": {},
   "outputs": [
    {
     "ename": "LoadError",
     "evalue": "MethodError: no method matching sqrt()\n\n\u001b[0mClosest candidates are:\n\u001b[0m  sqrt(\u001b[91m::Missing\u001b[39m)\n\u001b[0m\u001b[90m   @\u001b[39m \u001b[90mBase\u001b[39m \u001b[90m\u001b[4mmath.jl:1580\u001b[24m\u001b[39m\n\u001b[0m  sqrt(\u001b[91m::Float16\u001b[39m)\n\u001b[0m\u001b[90m   @\u001b[39m \u001b[90mBase\u001b[39m \u001b[90m\u001b[4mmath.jl:1558\u001b[24m\u001b[39m\n\u001b[0m  sqrt(\u001b[91m::BigInt\u001b[39m)\n\u001b[0m\u001b[90m   @\u001b[39m \u001b[90mBase\u001b[39m \u001b[90m\u001b[4mmpfr.jl:644\u001b[24m\u001b[39m\n\u001b[0m  ...\n",
     "output_type": "error",
     "traceback": [
      "MethodError: no method matching sqrt()\n\n\u001b[0mClosest candidates are:\n\u001b[0m  sqrt(\u001b[91m::Missing\u001b[39m)\n\u001b[0m\u001b[90m   @\u001b[39m \u001b[90mBase\u001b[39m \u001b[90m\u001b[4mmath.jl:1580\u001b[24m\u001b[39m\n\u001b[0m  sqrt(\u001b[91m::Float16\u001b[39m)\n\u001b[0m\u001b[90m   @\u001b[39m \u001b[90mBase\u001b[39m \u001b[90m\u001b[4mmath.jl:1558\u001b[24m\u001b[39m\n\u001b[0m  sqrt(\u001b[91m::BigInt\u001b[39m)\n\u001b[0m\u001b[90m   @\u001b[39m \u001b[90mBase\u001b[39m \u001b[90m\u001b[4mmpfr.jl:644\u001b[24m\u001b[39m\n\u001b[0m  ...\n",
      "",
      "Stacktrace:",
      " [1] markov(N::Int64, r::Float64, α::Float64, γ::Float64, T::Int64, iter::Int64)",
      "   @ Main ~/faculdade/7º semestre/mecânica estatística/projeto_mec_estatistica/metropolis_alg/markov.jl:8",
      " [2] top-level scope",
      "   @ In[2]:9"
     ]
    }
   ],
   "source": [
    "N = 50\n",
    "r= .00002\n",
    "γ = .6\n",
    "T = 293\n",
    "iter = 100\n",
    "len = 100\n",
    "α = .2\n",
    "mean_ratios = []\n",
    "EE, ratio_tentativas,energies = markov(N,r, α, γ,T,iter)\n"
   ]
  },
  {
   "cell_type": "code",
   "execution_count": 3,
   "metadata": {},
   "outputs": [
    {
     "ename": "LoadError",
     "evalue": "UndefVarError: `EE` not defined",
     "output_type": "error",
     "traceback": [
      "UndefVarError: `EE` not defined",
      "",
      "Stacktrace:",
      " [1] top-level scope",
      "   @ In[3]:1"
     ]
    }
   ],
   "source": [
    "plot(1:iter,log.(abs.(EE)))"
   ]
  },
  {
   "cell_type": "code",
   "execution_count": 4,
   "metadata": {},
   "outputs": [
    {
     "ename": "LoadError",
     "evalue": "UndefVarError: `energies` not defined",
     "output_type": "error",
     "traceback": [
      "UndefVarError: `energies` not defined",
      ""
     ]
    }
   ],
   "source": [
    "energies"
   ]
  },
  {
   "cell_type": "code",
   "execution_count": null,
   "metadata": {},
   "outputs": [],
   "source": []
  }
 ],
 "metadata": {
  "kernelspec": {
   "display_name": "Julia 1.10.5",
   "language": "julia",
   "name": "julia-1.10"
  },
  "language_info": {
   "file_extension": ".jl",
   "mimetype": "application/julia",
   "name": "julia",
   "version": "1.10.5"
  }
 },
 "nbformat": 4,
 "nbformat_minor": 4
}
